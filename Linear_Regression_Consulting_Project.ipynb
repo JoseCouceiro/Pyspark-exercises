{
 "cells": [
  {
   "cell_type": "markdown",
   "metadata": {
    "application/vnd.databricks.v1+cell": {
     "cellMetadata": {
      "byteLimit": 2048000,
      "rowLimit": 10000
     },
     "inputWidgets": {},
     "nuid": "5b3fcdd1-dcca-4be9-a362-72fdeab1c4f9",
     "showTitle": false,
     "title": ""
    }
   },
   "source": [
    "# Linear Regression Consulting Project"
   ]
  },
  {
   "cell_type": "markdown",
   "metadata": {
    "application/vnd.databricks.v1+cell": {
     "cellMetadata": {
      "byteLimit": 2048000,
      "rowLimit": 10000
     },
     "inputWidgets": {},
     "nuid": "a5d6b689-b241-46f6-b38f-94af7e89e52d",
     "showTitle": false,
     "title": ""
    },
    "collapsed": true
   },
   "source": [
    "Congratulations! You've been contracted by Hyundai Heavy Industries to help them build a predictive model for some ships. [Hyundai Heavy Industries](http://www.hyundai.eu/en) is one of the world's largest ship manufacturing companies and builds cruise liners.\n",
    "\n",
    "You've been flown to their headquarters in Ulsan, South Korea to help them give accurate estimates of how many crew members a ship will require.\n",
    "\n",
    "They are currently building new ships for some customers and want you to create a model and use it to predict how many crew members the ships will need.\n",
    "\n",
    "Here is what the data looks like so far:\n",
    "\n",
    "    Description: Measurements of ship size, capacity, crew, and age for 158 cruise\n",
    "    ships.\n",
    "\n",
    "\n",
    "    Variables/Columns\n",
    "    Ship Name     1-20\n",
    "    Cruise Line   21-40\n",
    "    Age (as of 2013)   46-48\n",
    "    Tonnage (1000s of tons)   50-56\n",
    "    passengers (100s)   58-64\n",
    "    Length (100s of feet)  66-72\n",
    "    Cabins  (100s)   74-80\n",
    "    Passenger Density   82-88\n",
    "    Crew  (100s)   90-96\n",
    "    \n",
    "It is saved in a csv file for you called \"cruise_ship_info.csv\". Your job is to create a regression model that will help predict how many crew members will be needed for future ships. The client also mentioned that they have found that particular cruise lines will differ in acceptable crew counts, so it is most likely an important feature to include in your analysis! \n",
    "\n",
    "Once you've created the model and tested it for a quick check on how well you can expect it to perform, make sure you take a look at why it performs so well!"
   ]
  },
  {
   "cell_type": "code",
   "execution_count": 0,
   "metadata": {
    "application/vnd.databricks.v1+cell": {
     "cellMetadata": {
      "byteLimit": 2048000,
      "rowLimit": 10000
     },
     "inputWidgets": {},
     "nuid": "858372a5-f2f2-418e-b7a5-d74d4d21ff87",
     "showTitle": false,
     "title": ""
    }
   },
   "outputs": [],
   "source": [
    "from pyspark.sql import SparkSession\n",
    "spark = SparkSession.builder.appName('consulting').getOrCreate()"
   ]
  },
  {
   "cell_type": "markdown",
   "metadata": {
    "application/vnd.databricks.v1+cell": {
     "cellMetadata": {
      "byteLimit": 2048000,
      "rowLimit": 10000
     },
     "inputWidgets": {},
     "nuid": "78999f5f-e060-47af-a6a8-d08d006de2d5",
     "showTitle": false,
     "title": ""
    }
   },
   "source": [
    "### Importing the csv file and doing a firt analysis"
   ]
  },
  {
   "cell_type": "code",
   "execution_count": 0,
   "metadata": {
    "application/vnd.databricks.v1+cell": {
     "cellMetadata": {
      "byteLimit": 2048000,
      "rowLimit": 10000
     },
     "inputWidgets": {},
     "nuid": "4177ef31-68f3-46b9-a750-378bc9a745e0",
     "showTitle": false,
     "title": ""
    }
   },
   "outputs": [],
   "source": [
    "data = spark.read.csv('/FileStore/tables/cruise_ship_info.csv', header=True, inferSchema=True)"
   ]
  },
  {
   "cell_type": "code",
   "execution_count": 0,
   "metadata": {
    "application/vnd.databricks.v1+cell": {
     "cellMetadata": {
      "byteLimit": 2048000,
      "rowLimit": 10000
     },
     "inputWidgets": {},
     "nuid": "acb8e0ea-7c41-4630-bc58-74f48ab1a834",
     "showTitle": false,
     "title": ""
    }
   },
   "outputs": [
    {
     "output_type": "stream",
     "name": "stdout",
     "output_type": "stream",
     "text": [
      "Out[3]: ['Ship_name',\n 'Cruise_line',\n 'Age',\n 'Tonnage',\n 'passengers',\n 'length',\n 'cabins',\n 'passenger_density',\n 'crew']"
     ]
    }
   ],
   "source": [
    "data.columns"
   ]
  },
  {
   "cell_type": "code",
   "execution_count": 0,
   "metadata": {
    "application/vnd.databricks.v1+cell": {
     "cellMetadata": {
      "byteLimit": 2048000,
      "rowLimit": 10000
     },
     "inputWidgets": {},
     "nuid": "12aba92d-0483-49ac-9d15-f67d7ee9dbfd",
     "showTitle": false,
     "title": ""
    }
   },
   "outputs": [
    {
     "output_type": "stream",
     "name": "stdout",
     "output_type": "stream",
     "text": [
      "root\n |-- Ship_name: string (nullable = true)\n |-- Cruise_line: string (nullable = true)\n |-- Age: integer (nullable = true)\n |-- Tonnage: double (nullable = true)\n |-- passengers: double (nullable = true)\n |-- length: double (nullable = true)\n |-- cabins: double (nullable = true)\n |-- passenger_density: double (nullable = true)\n |-- crew: double (nullable = true)\n\n"
     ]
    }
   ],
   "source": [
    "data.printSchema()"
   ]
  },
  {
   "cell_type": "code",
   "execution_count": 0,
   "metadata": {
    "application/vnd.databricks.v1+cell": {
     "cellMetadata": {
      "byteLimit": 2048000,
      "rowLimit": 10000
     },
     "inputWidgets": {},
     "nuid": "beb3b3bf-cb35-49d1-84a2-18163628d173",
     "showTitle": false,
     "title": ""
    }
   },
   "outputs": [
    {
     "output_type": "stream",
     "name": "stdout",
     "output_type": "stream",
     "text": [
      "+-----------+-----------+---+------------------+----------+------+------+-----------------+----+\n|  Ship_name|Cruise_line|Age|           Tonnage|passengers|length|cabins|passenger_density|crew|\n+-----------+-----------+---+------------------+----------+------+------+-----------------+----+\n|    Journey|    Azamara|  6|30.276999999999997|      6.94|  5.94|  3.55|            42.64|3.55|\n|      Quest|    Azamara|  6|30.276999999999997|      6.94|  5.94|  3.55|            42.64|3.55|\n|Celebration|   Carnival| 26|            47.262|     14.86|  7.22|  7.43|             31.8| 6.7|\n|   Conquest|   Carnival| 11|             110.0|     29.74|  9.53| 14.88|            36.99|19.1|\n|    Destiny|   Carnival| 17|           101.353|     26.42|  8.92| 13.21|            38.36|10.0|\n+-----------+-----------+---+------------------+----------+------+------+-----------------+----+\nonly showing top 5 rows\n\n"
     ]
    }
   ],
   "source": [
    "data.show(5)"
   ]
  },
  {
   "cell_type": "markdown",
   "metadata": {
    "application/vnd.databricks.v1+cell": {
     "cellMetadata": {},
     "inputWidgets": {},
     "nuid": "5a6a5eb5-9039-4394-a7f4-55992da8c6ba",
     "showTitle": false,
     "title": ""
    }
   },
   "source": [
    "Check for the presence of null values"
   ]
  },
  {
   "cell_type": "code",
   "execution_count": 0,
   "metadata": {
    "application/vnd.databricks.v1+cell": {
     "cellMetadata": {
      "byteLimit": 2048000,
      "rowLimit": 10000
     },
     "inputWidgets": {},
     "nuid": "c40c4d3c-c8a3-4915-a819-9a38f7d48057",
     "showTitle": false,
     "title": ""
    }
   },
   "outputs": [
    {
     "output_type": "stream",
     "name": "stdout",
     "output_type": "stream",
     "text": [
      "+---------+-----------+---+-------+----------+------+------+-----------------+----+\n|Ship_name|Cruise_line|Age|Tonnage|passengers|length|cabins|passenger_density|crew|\n+---------+-----------+---+-------+----------+------+------+-----------------+----+\n|        0|          0|  0|      0|         0|     0|     0|                0|   0|\n+---------+-----------+---+-------+----------+------+------+-----------------+----+\n\n"
     ]
    }
   ],
   "source": [
    "from pyspark.sql.functions import col, isnan, when, count\n",
    "data.select([count(when(isnan(c) | col(c).isNull(), c)).alias(c) for c in data.columns]\n",
    "   ).show()"
   ]
  },
  {
   "cell_type": "markdown",
   "metadata": {
    "application/vnd.databricks.v1+cell": {
     "cellMetadata": {},
     "inputWidgets": {},
     "nuid": "635604ce-a6cd-4ba0-ae98-bbaf8d619618",
     "showTitle": false,
     "title": ""
    }
   },
   "source": [
    "#### One Hot Encoding of the Cruise_Line Column\n",
    "Since this category seems to be important for the determination of the number of crew members, it will be included in the analysis. Given that it is a string, it can't be used as it is and needs to be converted to numerical values."
   ]
  },
  {
   "cell_type": "code",
   "execution_count": 0,
   "metadata": {
    "application/vnd.databricks.v1+cell": {
     "cellMetadata": {
      "byteLimit": 2048000,
      "rowLimit": 10000
     },
     "inputWidgets": {},
     "nuid": "afc70949-ecae-4c99-8358-3b4c6976e337",
     "showTitle": false,
     "title": ""
    }
   },
   "outputs": [
    {
     "output_type": "stream",
     "name": "stdout",
     "output_type": "stream",
     "text": [
      "+-----------------+-----+\n|      Cruise_line|count|\n+-----------------+-----+\n|            Costa|   11|\n|              P&O|    6|\n|           Cunard|    3|\n|Regent_Seven_Seas|    5|\n|              MSC|    8|\n|         Carnival|   22|\n|          Crystal|    2|\n|           Orient|    1|\n|         Princess|   17|\n|        Silversea|    4|\n|         Seabourn|    3|\n| Holland_American|   14|\n|         Windstar|    3|\n|           Disney|    2|\n|        Norwegian|   13|\n|          Oceania|    3|\n|          Azamara|    2|\n|        Celebrity|   10|\n|             Star|    6|\n|  Royal_Caribbean|   23|\n+-----------------+-----+\n\n"
     ]
    }
   ],
   "source": [
    "data.groupBy('Cruise_line').count().show()"
   ]
  },
  {
   "cell_type": "code",
   "execution_count": 0,
   "metadata": {
    "application/vnd.databricks.v1+cell": {
     "cellMetadata": {
      "byteLimit": 2048000,
      "rowLimit": 10000
     },
     "inputWidgets": {},
     "nuid": "cd22ae04-b8d1-4e8a-81e6-8cfd2b0b8333",
     "showTitle": false,
     "title": ""
    }
   },
   "outputs": [],
   "source": [
    "from pyspark.ml.feature import StringIndexer, OneHotEncoder\n",
    "from pyspark.sql.types import StringType, StructType, StructField"
   ]
  },
  {
   "cell_type": "code",
   "execution_count": 0,
   "metadata": {
    "application/vnd.databricks.v1+cell": {
     "cellMetadata": {
      "byteLimit": 2048000,
      "rowLimit": 10000
     },
     "inputWidgets": {},
     "nuid": "b849bee6-f6cd-4a00-ba78-4ab86a3796b8",
     "showTitle": false,
     "title": ""
    }
   },
   "outputs": [],
   "source": [
    "indexer = StringIndexer(inputCol=\"Cruise_line\", outputCol=\"Cruise_line_Indexed\")\n",
    "indexed_data = indexer.fit(data).transform(data)"
   ]
  },
  {
   "cell_type": "code",
   "execution_count": 0,
   "metadata": {
    "application/vnd.databricks.v1+cell": {
     "cellMetadata": {
      "byteLimit": 2048000,
      "rowLimit": 10000
     },
     "inputWidgets": {},
     "nuid": "77009842-933e-4153-b488-ed708efea9d9",
     "showTitle": false,
     "title": ""
    }
   },
   "outputs": [
    {
     "output_type": "stream",
     "name": "stdout",
     "output_type": "stream",
     "text": [
      "+-----------+-----------+---+------------------+----------+------+------+-----------------+----+-------------------+------------------+\n|  Ship_name|Cruise_line|Age|           Tonnage|passengers|length|cabins|passenger_density|crew|Cruise_line_Indexed|Cruise_line_onehot|\n+-----------+-----------+---+------------------+----------+------+------+-----------------+----+-------------------+------------------+\n|    Journey|    Azamara|  6|30.276999999999997|      6.94|  5.94|  3.55|            42.64|3.55|               16.0|   (19,[16],[1.0])|\n|      Quest|    Azamara|  6|30.276999999999997|      6.94|  5.94|  3.55|            42.64|3.55|               16.0|   (19,[16],[1.0])|\n|Celebration|   Carnival| 26|            47.262|     14.86|  7.22|  7.43|             31.8| 6.7|                1.0|    (19,[1],[1.0])|\n|   Conquest|   Carnival| 11|             110.0|     29.74|  9.53| 14.88|            36.99|19.1|                1.0|    (19,[1],[1.0])|\n|    Destiny|   Carnival| 17|           101.353|     26.42|  8.92| 13.21|            38.36|10.0|                1.0|    (19,[1],[1.0])|\n+-----------+-----------+---+------------------+----------+------+------+-----------------+----+-------------------+------------------+\nonly showing top 5 rows\n\n"
     ]
    }
   ],
   "source": [
    "encoder = OneHotEncoder(inputCol=\"Cruise_line_Indexed\", outputCol=\"Cruise_line_onehot\")\n",
    "encoded_data = encoder.fit(indexed_data).transform(indexed_data)\n",
    "encoded_data.show(5)"
   ]
  },
  {
   "cell_type": "markdown",
   "metadata": {
    "application/vnd.databricks.v1+cell": {
     "cellMetadata": {
      "byteLimit": 2048000,
      "rowLimit": 10000
     },
     "inputWidgets": {},
     "nuid": "301ac1df-eecc-4a8b-9973-d765ee869b65",
     "showTitle": false,
     "title": ""
    }
   },
   "source": [
    "#### Vectorizing the features"
   ]
  },
  {
   "cell_type": "code",
   "execution_count": 0,
   "metadata": {
    "application/vnd.databricks.v1+cell": {
     "cellMetadata": {
      "byteLimit": 2048000,
      "rowLimit": 10000
     },
     "inputWidgets": {},
     "nuid": "b02e8820-13f9-4a12-80c3-15c071c7c600",
     "showTitle": false,
     "title": ""
    }
   },
   "outputs": [],
   "source": [
    "from pyspark.ml.feature import VectorAssembler"
   ]
  },
  {
   "cell_type": "code",
   "execution_count": 0,
   "metadata": {
    "application/vnd.databricks.v1+cell": {
     "cellMetadata": {
      "byteLimit": 2048000,
      "rowLimit": 10000
     },
     "inputWidgets": {},
     "nuid": "92d456b8-46cc-43ad-a622-953f1f8e446b",
     "showTitle": false,
     "title": ""
    }
   },
   "outputs": [
    {
     "output_type": "stream",
     "name": "stdout",
     "output_type": "stream",
     "text": [
      "root\n |-- Ship_name: string (nullable = true)\n |-- Cruise_line: string (nullable = true)\n |-- Age: integer (nullable = true)\n |-- Tonnage: double (nullable = true)\n |-- passengers: double (nullable = true)\n |-- length: double (nullable = true)\n |-- cabins: double (nullable = true)\n |-- passenger_density: double (nullable = true)\n |-- crew: double (nullable = true)\n |-- Cruise_line_Indexed: double (nullable = false)\n |-- Cruise_line_onehot: vector (nullable = true)\n\n"
     ]
    }
   ],
   "source": [
    "encoded_data.printSchema()"
   ]
  },
  {
   "cell_type": "code",
   "execution_count": 0,
   "metadata": {
    "application/vnd.databricks.v1+cell": {
     "cellMetadata": {
      "byteLimit": 2048000,
      "rowLimit": 10000
     },
     "inputWidgets": {},
     "nuid": "9443701f-8601-4283-9819-bba72ea8eafb",
     "showTitle": false,
     "title": ""
    }
   },
   "outputs": [],
   "source": [
    "assembler = VectorAssembler(inputCols=['Age', 'Tonnage', 'passengers', 'length', 'cabins', 'passenger_density', 'Cruise_line_onehot'], outputCol='features')\n",
    "output = assembler.transform(encoded_data)"
   ]
  },
  {
   "cell_type": "code",
   "execution_count": 0,
   "metadata": {
    "application/vnd.databricks.v1+cell": {
     "cellMetadata": {
      "byteLimit": 2048000,
      "rowLimit": 10000
     },
     "inputWidgets": {},
     "nuid": "31acfba3-de9e-4203-a2d1-ffb6f0daaee1",
     "showTitle": false,
     "title": ""
    }
   },
   "outputs": [
    {
     "output_type": "stream",
     "name": "stdout",
     "output_type": "stream",
     "text": [
      "+--------------------+----+\n|            features|crew|\n+--------------------+----+\n|(25,[0,1,2,3,4,5,...|3.55|\n|(25,[0,1,2,3,4,5,...|3.55|\n|(25,[0,1,2,3,4,5,...| 6.7|\n|(25,[0,1,2,3,4,5,...|19.1|\n|(25,[0,1,2,3,4,5,...|10.0|\n|(25,[0,1,2,3,4,5,...| 9.2|\n|(25,[0,1,2,3,4,5,...| 9.2|\n|(25,[0,1,2,3,4,5,...| 9.2|\n|(25,[0,1,2,3,4,5,...| 9.2|\n|(25,[0,1,2,3,4,5,...|11.5|\n|(25,[0,1,2,3,4,5,...|11.6|\n|(25,[0,1,2,3,4,5,...| 6.6|\n|(25,[0,1,2,3,4,5,...| 9.2|\n|(25,[0,1,2,3,4,5,...| 9.2|\n|(25,[0,1,2,3,4,5,...| 9.3|\n|(25,[0,1,2,3,4,5,...|11.6|\n|(25,[0,1,2,3,4,5,...|10.3|\n|(25,[0,1,2,3,4,5,...| 9.2|\n|(25,[0,1,2,3,4,5,...| 9.3|\n|(25,[0,1,2,3,4,5,...| 9.2|\n+--------------------+----+\nonly showing top 20 rows\n\n"
     ]
    }
   ],
   "source": [
    "final_data = output.select('features', 'crew')\n",
    "final_data.show()"
   ]
  },
  {
   "cell_type": "markdown",
   "metadata": {
    "application/vnd.databricks.v1+cell": {
     "cellMetadata": {
      "byteLimit": 2048000,
      "rowLimit": 10000
     },
     "inputWidgets": {},
     "nuid": "0916852f-e08c-412d-b4ba-8737066dd91a",
     "showTitle": false,
     "title": ""
    }
   },
   "source": [
    "#### Building the model\n",
    "The data will be divided in train and test partitions and the regression model will be fit to the train data"
   ]
  },
  {
   "cell_type": "code",
   "execution_count": 0,
   "metadata": {
    "application/vnd.databricks.v1+cell": {
     "cellMetadata": {
      "byteLimit": 2048000,
      "rowLimit": 10000
     },
     "inputWidgets": {},
     "nuid": "be691398-2afa-4c94-a4f0-6fffd936fcb2",
     "showTitle": false,
     "title": ""
    }
   },
   "outputs": [],
   "source": [
    "train_data, test_data = final_data.randomSplit([0.7,0.3])"
   ]
  },
  {
   "cell_type": "code",
   "execution_count": 0,
   "metadata": {
    "application/vnd.databricks.v1+cell": {
     "cellMetadata": {
      "byteLimit": 2048000,
      "rowLimit": 10000
     },
     "inputWidgets": {},
     "nuid": "a4f595b7-60d5-4931-b36f-faf40884b623",
     "showTitle": false,
     "title": ""
    }
   },
   "outputs": [],
   "source": [
    "from pyspark.ml.regression import LinearRegression"
   ]
  },
  {
   "cell_type": "code",
   "execution_count": 0,
   "metadata": {
    "application/vnd.databricks.v1+cell": {
     "cellMetadata": {
      "byteLimit": 2048000,
      "rowLimit": 10000
     },
     "inputWidgets": {},
     "nuid": "fbf31044-9f01-4e0c-bb28-7f4c39554aad",
     "showTitle": false,
     "title": ""
    }
   },
   "outputs": [],
   "source": [
    "lr = LinearRegression(labelCol='crew')\n",
    "lr_model = lr.fit(train_data)"
   ]
  },
  {
   "cell_type": "markdown",
   "metadata": {
    "application/vnd.databricks.v1+cell": {
     "cellMetadata": {},
     "inputWidgets": {},
     "nuid": "2f0dc5ab-85f7-41e5-9c1b-a58acd587488",
     "showTitle": false,
     "title": ""
    }
   },
   "source": [
    "#### Model evaluation"
   ]
  },
  {
   "cell_type": "markdown",
   "metadata": {
    "application/vnd.databricks.v1+cell": {
     "cellMetadata": {},
     "inputWidgets": {},
     "nuid": "69dacc1d-b71f-4b61-b73d-d4c7b40444ee",
     "showTitle": false,
     "title": ""
    }
   },
   "source": [
    "I'm going to use the mean squared error and the r square as measures of the model performance"
   ]
  },
  {
   "cell_type": "code",
   "execution_count": 0,
   "metadata": {
    "application/vnd.databricks.v1+cell": {
     "cellMetadata": {
      "byteLimit": 2048000,
      "rowLimit": 10000
     },
     "inputWidgets": {},
     "nuid": "7005a9d6-6259-4cd2-89b7-384c0a1e44ab",
     "showTitle": false,
     "title": ""
    }
   },
   "outputs": [
    {
     "output_type": "stream",
     "name": "stdout",
     "output_type": "stream",
     "text": [
      "MSE = 1.1537971006591412\nr square = 0.8982242683421\n"
     ]
    }
   ],
   "source": [
    "test_results = lr_model.evaluate(test_data)\n",
    "print('MSE =',  test_results.rootMeanSquaredError)\n",
    "print('r square =', test_results.r2)"
   ]
  },
  {
   "cell_type": "code",
   "execution_count": 0,
   "metadata": {
    "application/vnd.databricks.v1+cell": {
     "cellMetadata": {
      "byteLimit": 2048000,
      "rowLimit": 10000
     },
     "inputWidgets": {},
     "nuid": "fb551a00-5d26-474c-a343-aafb4610ddac",
     "showTitle": false,
     "title": ""
    }
   },
   "outputs": [
    {
     "output_type": "stream",
     "name": "stdout",
     "output_type": "stream",
     "text": [
      "+-------+-----------------+\n|summary|             crew|\n+-------+-----------------+\n|  count|              158|\n|   mean|7.794177215189873|\n| stddev|3.503486564627034|\n|    min|             0.59|\n|    max|             21.0|\n+-------+-----------------+\n\n"
     ]
    }
   ],
   "source": [
    "final_data.describe().show()"
   ]
  },
  {
   "cell_type": "markdown",
   "metadata": {
    "application/vnd.databricks.v1+cell": {
     "cellMetadata": {},
     "inputWidgets": {},
     "nuid": "dc922f8d-f2a0-4623-95c9-3c23d2c26d5c",
     "showTitle": false,
     "title": ""
    }
   },
   "source": [
    "The model has a very good fitting to the data, with 89% of variance explained. The mean square error is 1.15, it is also acceptable since the average crew is 7.79, which means a 14% of percentage of error."
   ]
  },
  {
   "cell_type": "markdown",
   "metadata": {
    "application/vnd.databricks.v1+cell": {
     "cellMetadata": {},
     "inputWidgets": {},
     "nuid": "f77368c3-ece9-4a1c-ab32-05d8ae5db86b",
     "showTitle": false,
     "title": ""
    }
   },
   "source": [
    "#### Reality check\n",
    "I will check for higly correlated variables that may explain the good performance of the model but imply that the model is actually meaningless (for instance, if number of passengers and number of crew are highly correlated)"
   ]
  },
  {
   "cell_type": "code",
   "execution_count": 0,
   "metadata": {
    "application/vnd.databricks.v1+cell": {
     "cellMetadata": {
      "byteLimit": 2048000,
      "rowLimit": 10000
     },
     "inputWidgets": {},
     "nuid": "27fc00d5-5ddf-473f-8736-0bea019c8fb2",
     "showTitle": false,
     "title": ""
    }
   },
   "outputs": [],
   "source": [
    "from pyspark.sql.functions import corr"
   ]
  },
  {
   "cell_type": "code",
   "execution_count": 0,
   "metadata": {
    "application/vnd.databricks.v1+cell": {
     "cellMetadata": {
      "byteLimit": 2048000,
      "rowLimit": 10000
     },
     "inputWidgets": {},
     "nuid": "64192d5a-adae-4f7d-8b77-1d5022b62d1f",
     "showTitle": false,
     "title": ""
    }
   },
   "outputs": [
    {
     "output_type": "stream",
     "name": "stdout",
     "output_type": "stream",
     "text": [
      "+---------------------+\n|corr(crew, Ship_name)|\n+---------------------+\n|                 null|\n+---------------------+\n\n+-----------------------+\n|corr(crew, Cruise_line)|\n+-----------------------+\n|                   null|\n+-----------------------+\n\n+-------------------+\n|    corr(crew, Age)|\n+-------------------+\n|-0.5306565039638852|\n+-------------------+\n\n+-------------------+\n|corr(crew, Tonnage)|\n+-------------------+\n|  0.927568811544939|\n+-------------------+\n\n+----------------------+\n|corr(crew, passengers)|\n+----------------------+\n|    0.9152341306065384|\n+----------------------+\n\n+------------------+\n|corr(crew, length)|\n+------------------+\n|0.8958566271016579|\n+------------------+\n\n+------------------+\n|corr(crew, cabins)|\n+------------------+\n|0.9508226063578497|\n+------------------+\n\n+-----------------------------+\n|corr(crew, passenger_density)|\n+-----------------------------+\n|         -0.15550928421699717|\n+-----------------------------+\n\n+----------------+\n|corr(crew, crew)|\n+----------------+\n|             1.0|\n+----------------+\n\n+-------------------------------+\n|corr(crew, Cruise_line_Indexed)|\n+-------------------------------+\n|            -0.5154627327113319|\n+-------------------------------+\n\n"
     ]
    }
   ],
   "source": [
    "for c in indexed_data.columns:\n",
    "    indexed_data.select(corr('crew', c)).show()"
   ]
  },
  {
   "cell_type": "markdown",
   "metadata": {
    "application/vnd.databricks.v1+cell": {
     "cellMetadata": {},
     "inputWidgets": {},
     "nuid": "0632f47a-3676-4cf9-9b2f-cea1fbaea0bf",
     "showTitle": false,
     "title": ""
    }
   },
   "source": [
    "The size of the ship, number of passengers and number of cabins are highly correlated and give already a good indication of the crew needed."
   ]
  },
  {
   "cell_type": "markdown",
   "metadata": {
    "application/vnd.databricks.v1+cell": {
     "cellMetadata": {},
     "inputWidgets": {},
     "nuid": "1f3c2a76-b934-473b-8400-369de7325b69",
     "showTitle": false,
     "title": ""
    }
   },
   "source": [
    "#### Observations\n",
    "Although not shown, the model performs better when the indexed_data is used instead of the encoded_data."
   ]
  }
 ],
 "metadata": {
  "anaconda-cloud": {},
  "application/vnd.databricks.v1+notebook": {
   "dashboards": [],
   "language": "python",
   "notebookMetadata": {
    "pythonIndentUnit": 4
   },
   "notebookName": "Linear_Regression_Consulting_Project",
   "widgets": {}
  },
  "kernelspec": {
   "display_name": "Python [conda root]",
   "language": "python",
   "name": "conda-root-py"
  },
  "language_info": {
   "codemirror_mode": {
    "name": "ipython",
    "version": 3
   },
   "file_extension": ".py",
   "mimetype": "text/x-python",
   "name": "python",
   "nbconvert_exporter": "python",
   "pygments_lexer": "ipython3",
   "version": "3.5.3"
  }
 },
 "nbformat": 4,
 "nbformat_minor": 0
}
